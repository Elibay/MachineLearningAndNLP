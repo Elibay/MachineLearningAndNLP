{
 "cells": [
  {
   "cell_type": "code",
   "execution_count": 1,
   "metadata": {},
   "outputs": [],
   "source": [
    "import re\n",
    "from scipy.spatial import distance\n",
    "import math"
   ]
  },
  {
   "cell_type": "code",
   "execution_count": 2,
   "metadata": {},
   "outputs": [],
   "source": [
    "f = open(\"sentences.txt\", \"r\")"
   ]
  },
  {
   "cell_type": "code",
   "execution_count": 3,
   "metadata": {},
   "outputs": [
    {
     "name": "stdout",
     "output_type": "stream",
     "text": [
      "<open file 'sentences.txt', mode 'r' at 0x109c00270>\n"
     ]
    }
   ],
   "source": [
    "print f"
   ]
  },
  {
   "cell_type": "code",
   "execution_count": 4,
   "metadata": {},
   "outputs": [],
   "source": [
    "m = {}\n",
    "mn = {}\n",
    "d = 0\n",
    "n = 0\n",
    "data = f.readlines()"
   ]
  },
  {
   "cell_type": "code",
   "execution_count": 5,
   "metadata": {},
   "outputs": [],
   "source": [
    "for line in data:\n",
    "    line = line.lower()\n",
    "    n = n + 1\n",
    "    words = re.split('[^a-z]', line)\n",
    "    for word in words:\n",
    "        if word == \"\" or word == None:\n",
    "            continue\n",
    "        else:\n",
    "            if not mn.get(word):\n",
    "                m[d] = word\n",
    "                mn[word] = d\n",
    "                d = d + 1"
   ]
  },
  {
   "cell_type": "code",
   "execution_count": 6,
   "metadata": {},
   "outputs": [
    {
     "name": "stdout",
     "output_type": "stream",
     "text": [
      "255\n"
     ]
    }
   ],
   "source": [
    "A=[]\n",
    "print d"
   ]
  },
  {
   "cell_type": "code",
   "execution_count": 7,
   "metadata": {},
   "outputs": [],
   "source": [
    "for line in data:\n",
    "    line = line.lower()\n",
    "    n_array = [0] * d\n",
    "    for i in range(d):\n",
    "        n_array[i] = int(line.split().count(m[i]))\n",
    "    A.append(list(n_array))"
   ]
  },
  {
   "cell_type": "code",
   "execution_count": 8,
   "metadata": {},
   "outputs": [],
   "source": [
    "def cos_dist (list1, list2):\n",
    "    sum1 = 0\n",
    "    sum2 = 0\n",
    "    sum3 = 0\n",
    "    for i in range (len(list1)) :\n",
    "            sum1 = sum1 + (list1[i] * list2[i])\n",
    "            sum2 = sum2 + (list1[i] * list1[i])\n",
    "            sum3 = sum3 + (list2[i] * list2[i])\n",
    "    \n",
    "    return 1 - sum1/(math.sqrt(sum3*sum2))"
   ]
  },
  {
   "cell_type": "code",
   "execution_count": 9,
   "metadata": {},
   "outputs": [],
   "source": [
    "a = []\n",
    "for i in range(1, n):\n",
    "    pair = (cos_dist(A[0], A[i]), i)\n",
    "    a.append(pair)\n",
    "a.sort()\n"
   ]
  },
  {
   "cell_type": "code",
   "execution_count": 10,
   "metadata": {},
   "outputs": [
    {
     "name": "stdout",
     "output_type": "stream",
     "text": [
      "(0.6603168897566213, 6) (0.716930741463851, 4)\n"
     ]
    }
   ],
   "source": [
    "print a[0], a[1]"
   ]
  },
  {
   "cell_type": "code",
   "execution_count": null,
   "metadata": {},
   "outputs": [],
   "source": []
  }
 ],
 "metadata": {
  "kernelspec": {
   "display_name": "Python 2",
   "language": "python",
   "name": "python2"
  },
  "language_info": {
   "codemirror_mode": {
    "name": "ipython",
    "version": 2
   },
   "file_extension": ".py",
   "mimetype": "text/x-python",
   "name": "python",
   "nbconvert_exporter": "python",
   "pygments_lexer": "ipython2",
   "version": "2.7.15"
  }
 },
 "nbformat": 4,
 "nbformat_minor": 2
}
