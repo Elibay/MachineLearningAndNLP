{
 "cells": [
  {
   "cell_type": "code",
   "execution_count": 1,
   "metadata": {},
   "outputs": [],
   "source": [
    "import pandas as pd"
   ]
  },
  {
   "cell_type": "code",
   "execution_count": 2,
   "metadata": {},
   "outputs": [],
   "source": [
    "url = \"http://opendata-ajuntament.barcelona.cat/resources/auto/transit/2018_01_Gener_TRAMS_TRAMS.csv\""
   ]
  },
  {
   "cell_type": "code",
   "execution_count": 3,
   "metadata": {},
   "outputs": [],
   "source": [
    "d = []"
   ]
  },
  {
   "cell_type": "code",
   "execution_count": 4,
   "metadata": {},
   "outputs": [],
   "source": [
    "d.append(pd.read_csv(url))"
   ]
  },
  {
   "cell_type": "code",
   "execution_count": 5,
   "metadata": {},
   "outputs": [],
   "source": [
    "d.append(pd.read_csv(\"http://opendata-ajuntament.barcelona.cat/resources/auto/transit/2018_02_Febrer_TRAMS_TRAMS.csv\"))"
   ]
  },
  {
   "cell_type": "code",
   "execution_count": 6,
   "metadata": {},
   "outputs": [],
   "source": [
    "d.append(pd.read_csv(\"http://opendata-ajuntament.barcelona.cat/resources/auto/transit/2018_03_Marc_TRAMS_TRAMS.csv\"))"
   ]
  },
  {
   "cell_type": "code",
   "execution_count": 7,
   "metadata": {},
   "outputs": [],
   "source": [
    "d.append(pd.read_csv(\"http://opendata-ajuntament.barcelona.cat/resources/auto/transit/2018_04_Abril_TRAMS_TRAMS.csv\"))"
   ]
  },
  {
   "cell_type": "code",
   "execution_count": 8,
   "metadata": {},
   "outputs": [],
   "source": [
    "d.append(pd.read_csv(\"http://opendata-ajuntament.barcelona.cat/resources/auto/transit/2018_05_Maig_TRAMS_TRAMS.csv\"))"
   ]
  },
  {
   "cell_type": "code",
   "execution_count": 9,
   "metadata": {},
   "outputs": [],
   "source": [
    "d.append(pd.read_csv(\"http://opendata-ajuntament.barcelona.cat/resources/auto/transit/2018_06_Juny_TRAMS_TRAMS.csv\"))"
   ]
  },
  {
   "cell_type": "code",
   "execution_count": 10,
   "metadata": {},
   "outputs": [],
   "source": [
    "d.append(pd.read_csv(\"http://opendata-ajuntament.barcelona.cat/resources/auto/transit/2018_07_Juliol_TRAMS_TRAMS.csv\"))"
   ]
  },
  {
   "cell_type": "code",
   "execution_count": 11,
   "metadata": {},
   "outputs": [],
   "source": [
    "d.append(pd.read_csv(\"http://opendata-ajuntament.barcelona.cat/resources/auto/transit/2018_08_Agost_TRAMS_TRAMS.csv\"))"
   ]
  },
  {
   "cell_type": "code",
   "execution_count": 12,
   "metadata": {},
   "outputs": [],
   "source": [
    "d.append(pd.read_csv(\"http://opendata-ajuntament.barcelona.cat/resources/auto/transit/2018_09_Setembre_TRAMS_TRAMS.csv\"))"
   ]
  },
  {
   "cell_type": "code",
   "execution_count": 13,
   "metadata": {},
   "outputs": [],
   "source": [
    "d.append(pd.read_csv(\"http://opendata-ajuntament.barcelona.cat/resources/auto/transit/2018_10_Octubre_TRAMS_TRAMS.csv\"))"
   ]
  },
  {
   "cell_type": "code",
   "execution_count": 14,
   "metadata": {},
   "outputs": [],
   "source": [
    "d.append(pd.read_csv(\"http://opendata-ajuntament.barcelona.cat/resources/auto/transit/2018_11_Novembre_TRAMS_TRAMS.csv\"))"
   ]
  },
  {
   "cell_type": "code",
   "execution_count": 17,
   "metadata": {},
   "outputs": [],
   "source": [
    "x = 0\n",
    "for i in d:\n",
    "    x += i['estatActual'].mean()"
   ]
  },
  {
   "cell_type": "code",
   "execution_count": 19,
   "metadata": {},
   "outputs": [
    {
     "data": {
      "text/plain": [
       "0.9723635964879904"
      ]
     },
     "execution_count": 19,
     "metadata": {},
     "output_type": "execute_result"
    }
   ],
   "source": [
    "x / 11"
   ]
  },
  {
   "cell_type": "code",
   "execution_count": null,
   "metadata": {},
   "outputs": [],
   "source": []
  }
 ],
 "metadata": {
  "kernelspec": {
   "display_name": "Python 3",
   "language": "python",
   "name": "python3"
  },
  "language_info": {
   "codemirror_mode": {
    "name": "ipython",
    "version": 3
   },
   "file_extension": ".py",
   "mimetype": "text/x-python",
   "name": "python",
   "nbconvert_exporter": "python",
   "pygments_lexer": "ipython3",
   "version": "3.7.1"
  }
 },
 "nbformat": 4,
 "nbformat_minor": 2
}
